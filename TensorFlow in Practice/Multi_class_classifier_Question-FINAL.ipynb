{
 "cells": [
  {
   "cell_type": "code",
   "execution_count": 2,
   "metadata": {
    "colab": {},
    "colab_type": "code",
    "id": "wYtuKeK0dImp"
   },
   "outputs": [],
   "source": [
    "# ATTENTION: Please do not alter any of the provided code in the exercise. Only add your own code where indicated\n",
    "# ATTENTION: Please do not add or remove any cells in the exercise. The grader will check specific cells based on the cell position.\n",
    "# ATTENTION: Please use the provided epoch values when training.\n",
    "\n",
    "import csv\n",
    "import numpy as np\n",
    "import tensorflow as tf\n",
    "from tensorflow.keras.preprocessing.image import ImageDataGenerator\n",
    "from os import getcwd"
   ]
  },
  {
   "cell_type": "code",
   "execution_count": 3,
   "metadata": {
    "colab": {},
    "colab_type": "code",
    "id": "4kxw-_rmcnVu"
   },
   "outputs": [
    {
     "name": "stdout",
     "output_type": "stream",
     "text": [
      "(27455, 28, 28)\n",
      "(27455,)\n",
      "(7172, 28, 28)\n",
      "(7172,)\n"
     ]
    }
   ],
   "source": [
    "def get_data(filename):\n",
    "  # You will need to write code that will read the file passed\n",
    "  # into this function. The first line contains the column headers\n",
    "  # so you should ignore it\n",
    "  # Each successive line contians 785 comma separated values between 0 and 255\n",
    "  # The first value is the label\n",
    "  # The rest are the pixel values for that picture\n",
    "  # The function will return 2 np.array types. One with all the labels\n",
    "  # One with all the images\n",
    "  #\n",
    "  # Tips: \n",
    "  # If you read a full line (as 'row') then row[0] has the label\n",
    "  # and row[1:785] has the 784 pixel values\n",
    "  # Take a look at np.array_split to turn the 784 pixels into 28x28\n",
    "  # You are reading in strings, but need the values to be floats\n",
    "  # Check out np.array().astype for a conversion\n",
    "    with open(filename) as training_file:\n",
    "      # Your code starts here\n",
    "        read = csv.reader(training_file, delimiter=',')    \n",
    "        imgs = []\n",
    "        labels = []\n",
    "\n",
    "        next(read, None)\n",
    "        \n",
    "        for row in read:\n",
    "            label = row[0]\n",
    "            data = row[1:]\n",
    "            img = np.array(data).reshape((28, 28))\n",
    "\n",
    "            imgs.append(img)\n",
    "            labels.append(label)\n",
    "\n",
    "        images = np.array(imgs).astype(float)\n",
    "        labels = np.array(labels).astype(float)\n",
    "      # Your code ends here\n",
    "    return images, labels\n",
    "\n",
    "path_sign_mnist_train = f\"{getcwd()}/../tmp2/sign_mnist_train.csv\"\n",
    "path_sign_mnist_test = f\"{getcwd()}/../tmp2/sign_mnist_test.csv\"\n",
    "training_images, training_labels = get_data(path_sign_mnist_train)\n",
    "testing_images, testing_labels = get_data(path_sign_mnist_test)\n",
    "\n",
    "# Keep these\n",
    "print(training_images.shape)\n",
    "print(training_labels.shape)\n",
    "print(testing_images.shape)\n",
    "print(testing_labels.shape)\n",
    "\n",
    "# Their output should be:\n",
    "# (27455, 28, 28)\n",
    "# (27455,)\n",
    "# (7172, 28, 28)\n",
    "# (7172,)"
   ]
  },
  {
   "cell_type": "code",
   "execution_count": 4,
   "metadata": {
    "colab": {},
    "colab_type": "code",
    "id": "awoqRpyZdQkD"
   },
   "outputs": [
    {
     "name": "stdout",
     "output_type": "stream",
     "text": [
      "(27455, 28, 28, 1)\n",
      "(7172, 28, 28, 1)\n"
     ]
    }
   ],
   "source": [
    "# In this section you will have to add another dimension to the data\n",
    "# So, for example, if your array is (10000, 28, 28)\n",
    "# You will need to make it (10000, 28, 28, 1)\n",
    "# Hint: np.expand_dims\n",
    "\n",
    "training_images = np.expand_dims(training_images, axis=3)\n",
    "testing_images = np.expand_dims(testing_images, axis=3)\n",
    "\n",
    "# Create an ImageDataGenerator and do Image Augmentation\n",
    "train_datagen = ImageDataGenerator(\n",
    "        rescale=1/255,\n",
    "        rotation_range=40,\n",
    "        width_shift_range=0.2,\n",
    "        height_shift_range=0.2,\n",
    "        shear_range=0.2,\n",
    "        zoom_range=0.2,\n",
    "        horizontal_flip=True,\n",
    "        fill_mode='nearest'\n",
    "    )\n",
    "\n",
    "validation_datagen = ImageDataGenerator(\n",
    "    rescale=1/255)\n",
    "    \n",
    "# Keep These\n",
    "print(training_images.shape)\n",
    "print(testing_images.shape)\n",
    "    \n",
    "# Their output should be:\n",
    "# (27455, 28, 28, 1)\n",
    "# (7172, 28, 28, 1)"
   ]
  },
  {
   "cell_type": "code",
   "execution_count": 15,
   "metadata": {
    "colab": {},
    "colab_type": "code",
    "id": "Rmb7S32cgRqS"
   },
   "outputs": [
    {
     "name": "stdout",
     "output_type": "stream",
     "text": [
      "Epoch 1/50\n",
      "429/429 [==============================] - 45s 105ms/step - loss: 2.7445 - acc: 0.1734 - val_loss: 2.1057 - val_acc: 0.2897\n",
      "Epoch 2/50\n",
      "429/429 [==============================] - 45s 104ms/step - loss: 2.0510 - acc: 0.3589 - val_loss: 1.5382 - val_acc: 0.5213\n",
      "Epoch 3/50\n",
      "429/429 [==============================] - 45s 105ms/step - loss: 1.6089 - acc: 0.4888 - val_loss: 0.9253 - val_acc: 0.6916\n",
      "Epoch 4/50\n",
      "429/429 [==============================] - 42s 99ms/step - loss: 1.3198 - acc: 0.5756 - val_loss: 0.7885 - val_acc: 0.7171\n",
      "Epoch 5/50\n",
      "429/429 [==============================] - 42s 97ms/step - loss: 1.1123 - acc: 0.6354 - val_loss: 0.5927 - val_acc: 0.8033\n",
      "Epoch 6/50\n",
      "429/429 [==============================] - 45s 106ms/step - loss: 0.9568 - acc: 0.6842 - val_loss: 0.5443 - val_acc: 0.7998\n",
      "Epoch 7/50\n",
      "429/429 [==============================] - 45s 106ms/step - loss: 0.8477 - acc: 0.7199 - val_loss: 0.5173 - val_acc: 0.8130\n",
      "Epoch 8/50\n",
      "429/429 [==============================] - 45s 105ms/step - loss: 0.7668 - acc: 0.7493 - val_loss: 0.4744 - val_acc: 0.8327\n",
      "Epoch 9/50\n",
      "429/429 [==============================] - 45s 105ms/step - loss: 0.6784 - acc: 0.7766 - val_loss: 0.2836 - val_acc: 0.9066\n",
      "Epoch 10/50\n",
      "429/429 [==============================] - 44s 103ms/step - loss: 0.6139 - acc: 0.7934 - val_loss: 0.2944 - val_acc: 0.8904\n",
      "Epoch 11/50\n",
      "429/429 [==============================] - 44s 103ms/step - loss: 0.5569 - acc: 0.8143 - val_loss: 0.3422 - val_acc: 0.8774\n",
      "Epoch 12/50\n",
      "429/429 [==============================] - 45s 105ms/step - loss: 0.5265 - acc: 0.8249 - val_loss: 0.2767 - val_acc: 0.9042\n",
      "Epoch 13/50\n",
      "429/429 [==============================] - 45s 104ms/step - loss: 0.4971 - acc: 0.8347 - val_loss: 0.2342 - val_acc: 0.9131\n",
      "Epoch 14/50\n",
      "429/429 [==============================] - 45s 104ms/step - loss: 0.4736 - acc: 0.8416 - val_loss: 0.2586 - val_acc: 0.9207\n",
      "Epoch 15/50\n",
      "429/429 [==============================] - 45s 104ms/step - loss: 0.4403 - acc: 0.8523 - val_loss: 0.1795 - val_acc: 0.9307\n",
      "Epoch 16/50\n",
      "429/429 [==============================] - 46s 107ms/step - loss: 0.4033 - acc: 0.8675 - val_loss: 0.2453 - val_acc: 0.9120\n",
      "Epoch 17/50\n",
      "429/429 [==============================] - 44s 103ms/step - loss: 0.3904 - acc: 0.8706 - val_loss: 0.2462 - val_acc: 0.9095\n",
      "Epoch 18/50\n",
      "429/429 [==============================] - 43s 101ms/step - loss: 0.3816 - acc: 0.8730 - val_loss: 0.1611 - val_acc: 0.9445\n",
      "Epoch 19/50\n",
      "429/429 [==============================] - 45s 106ms/step - loss: 0.3462 - acc: 0.8841 - val_loss: 0.1468 - val_acc: 0.9445\n",
      "Epoch 20/50\n",
      "429/429 [==============================] - 44s 103ms/step - loss: 0.3353 - acc: 0.8888 - val_loss: 0.1354 - val_acc: 0.9523\n",
      "Epoch 21/50\n",
      "429/429 [==============================] - 44s 102ms/step - loss: 0.3193 - acc: 0.8947 - val_loss: 0.1600 - val_acc: 0.9414\n",
      "Epoch 22/50\n",
      "429/429 [==============================] - 44s 103ms/step - loss: 0.3204 - acc: 0.8939 - val_loss: 0.1206 - val_acc: 0.9614\n",
      "Epoch 23/50\n",
      "429/429 [==============================] - 44s 101ms/step - loss: 0.2946 - acc: 0.9022 - val_loss: 0.1007 - val_acc: 0.9663\n",
      "Epoch 24/50\n",
      "429/429 [==============================] - 45s 104ms/step - loss: 0.2873 - acc: 0.9045 - val_loss: 0.1530 - val_acc: 0.9417\n",
      "Epoch 25/50\n",
      "429/429 [==============================] - 46s 106ms/step - loss: 0.2801 - acc: 0.9070 - val_loss: 0.0953 - val_acc: 0.9657\n",
      "Epoch 26/50\n",
      "429/429 [==============================] - 44s 102ms/step - loss: 0.2726 - acc: 0.9121 - val_loss: 0.0883 - val_acc: 0.9660\n",
      "Epoch 27/50\n",
      "429/429 [==============================] - 44s 103ms/step - loss: 0.2686 - acc: 0.9116 - val_loss: 0.0683 - val_acc: 0.9752\n",
      "Epoch 28/50\n",
      "429/429 [==============================] - 46s 107ms/step - loss: 0.2585 - acc: 0.9136 - val_loss: 0.1743 - val_acc: 0.9407\n",
      "Epoch 29/50\n",
      "429/429 [==============================] - 44s 102ms/step - loss: 0.2392 - acc: 0.9216 - val_loss: 0.1082 - val_acc: 0.9628\n",
      "Epoch 32/50\n",
      "429/429 [==============================] - 45s 106ms/step - loss: 0.2298 - acc: 0.9233 - val_loss: 0.0855 - val_acc: 0.9692\n",
      "Epoch 33/50\n",
      "429/429 [==============================] - 44s 104ms/step - loss: 0.2249 - acc: 0.9249 - val_loss: 0.1261 - val_acc: 0.9541\n",
      "Epoch 34/50\n",
      "429/429 [==============================] - 45s 105ms/step - loss: 0.2191 - acc: 0.9287 - val_loss: 0.0960 - val_acc: 0.9636\n",
      "Epoch 35/50\n",
      "429/429 [==============================] - 44s 102ms/step - loss: 0.2125 - acc: 0.9298 - val_loss: 0.1113 - val_acc: 0.9653\n",
      "Epoch 36/50\n",
      "429/429 [==============================] - 46s 106ms/step - loss: 0.2093 - acc: 0.9293 - val_loss: 0.1084 - val_acc: 0.9578\n",
      "Epoch 37/50\n",
      "429/429 [==============================] - 45s 106ms/step - loss: 0.2082 - acc: 0.9315 - val_loss: 0.0641 - val_acc: 0.9771\n",
      "Epoch 38/50\n",
      "429/429 [==============================] - 45s 105ms/step - loss: 0.1915 - acc: 0.9360 - val_loss: 0.0847 - val_acc: 0.9739\n",
      "Epoch 39/50\n",
      "429/429 [==============================] - 47s 110ms/step - loss: 0.1976 - acc: 0.9348 - val_loss: 0.0856 - val_acc: 0.9724\n",
      "Epoch 40/50\n",
      "429/429 [==============================] - 47s 110ms/step - loss: 0.1912 - acc: 0.9377 - val_loss: 0.0744 - val_acc: 0.9710\n",
      "Epoch 41/50\n",
      "429/429 [==============================] - 46s 107ms/step - loss: 0.1861 - acc: 0.9382 - val_loss: 0.1306 - val_acc: 0.9672\n",
      "Epoch 42/50\n",
      "429/429 [==============================] - 45s 106ms/step - loss: 0.1864 - acc: 0.9400 - val_loss: 0.0832 - val_acc: 0.9718\n",
      "Epoch 43/50\n",
      "429/429 [==============================] - 45s 104ms/step - loss: 0.1702 - acc: 0.9431 - val_loss: 0.0903 - val_acc: 0.9710\n",
      "Epoch 48/50\n",
      "429/429 [==============================] - 43s 100ms/step - loss: 0.1739 - acc: 0.9430 - val_loss: 0.0863 - val_acc: 0.9755\n",
      "Epoch 49/50\n",
      "429/429 [==============================] - 43s 101ms/step - loss: 0.1617 - acc: 0.9457 - val_loss: 0.0645 - val_acc: 0.9778\n",
      "Epoch 50/50\n",
      "429/429 [==============================] - 44s 102ms/step - loss: 0.1555 - acc: 0.9470 - val_loss: 0.0806 - val_acc: 0.9748\n"
     ]
    },
    {
     "data": {
      "text/plain": [
       "[219.04818916214424, 0.7307585]"
      ]
     },
     "execution_count": 15,
     "metadata": {},
     "output_type": "execute_result"
    }
   ],
   "source": [
    "# Define the model\n",
    "# Use no more than 2 Conv2D and 2 MaxPooling2D\n",
    "model = tf.keras.models.Sequential([\n",
    "    tf.keras.layers.Conv2D(32, 3, input_shape=(28,28,1), activation='relu'),\n",
    "    tf.keras.layers.MaxPooling2D(2),\n",
    "    tf.keras.layers.Conv2D(64, 3, activation='relu'),\n",
    "    tf.keras.layers.MaxPooling2D(2),\n",
    "    tf.keras.layers.Flatten(),\n",
    "    tf.keras.layers.Dense(512, activation='relu'),\n",
    "    tf.keras.layers.Dense(26, activation='softmax')\n",
    "])\n",
    "\n",
    "# Compile Model. \n",
    "model.compile(optimizer='adam', loss='sparse_categorical_crossentropy', metrics=['acc'])\n",
    "\n",
    "# Train the Model\n",
    "train_gen = train_datagen.flow(\n",
    "    training_images,\n",
    "    training_labels,\n",
    "    batch_size=64\n",
    ")\n",
    "\n",
    "val_gen = validation_datagen.flow(\n",
    "    testing_images,\n",
    "    testing_labels,\n",
    "    batch_size=64\n",
    ")\n",
    "\n",
    "history = model.fit_generator(\n",
    "    train_gen,\n",
    "    epochs=50,\n",
    "    validation_data=val_gen\n",
    ")\n",
    "\n",
    "model.evaluate(testing_images, testing_labels, verbose=0)"
   ]
  },
  {
   "cell_type": "code",
   "execution_count": 16,
   "metadata": {
    "colab": {},
    "colab_type": "code",
    "id": "_Q3Zpr46dsij"
   },
   "outputs": [
    {
     "data": {
      "image/png": "[encoded data removed]",
      "text/plain": [
       "<Figure size 432x288 with 1 Axes>"
      ]
     },
     "metadata": {
      "needs_background": "light"
     },
     "output_type": "display_data"
    },
    {
     "data": {
      "image/png": "[encoded data removed]",
      "text/plain": [
       "<Figure size 432x288 with 1 Axes>"
      ]
     },
     "metadata": {
      "needs_background": "light"
     },
     "output_type": "display_data"
    }
   ],
   "source": [
    "# Plot the chart for accuracy and loss on both training and validation\n",
    "%matplotlib inline\n",
    "import matplotlib.pyplot as plt\n",
    "acc = history.history['acc']\n",
    "val_acc = history.history['val_acc']\n",
    "loss = history.history['loss']\n",
    "val_loss = history.history['val_loss']\n",
    "\n",
    "epochs = range(len(acc))\n",
    "\n",
    "plt.plot(epochs, acc, 'r', label='Training accuracy')\n",
    "plt.plot(epochs, val_acc, 'b', label='Validation accuracy')\n",
    "plt.title('Training and validation accuracy')\n",
    "plt.legend()\n",
    "plt.figure()\n",
    "\n",
    "plt.plot(epochs, loss, 'r', label='Training Loss')\n",
    "plt.plot(epochs, val_loss, 'b', label='Validation Loss')\n",
    "plt.title('Training and validation loss')\n",
    "plt.legend()\n",
    "\n",
    "plt.show()"
   ]
  },
  {
   "cell_type": "markdown",
   "metadata": {},
   "source": [
    "# Submission Instructions"
   ]
  },
  {
   "cell_type": "code",
   "execution_count": 13,
   "metadata": {},
   "outputs": [],
   "source": [
    "# Now click the 'Submit Assignment' button above."
   ]
  },
  {
   "cell_type": "markdown",
   "metadata": {},
   "source": [
    "# When you're done or would like to take a break, please run the two cells below to save your work and close the Notebook. This will free up resources for your fellow learners. "
   ]
  },
  {
   "cell_type": "code",
   "execution_count": 14,
   "metadata": {},
   "outputs": [
    {
     "data": {
      "application/javascript": [
       "<!-- Save the notebook -->\n",
       "IPython.notebook.save_checkpoint();\n"
      ],
      "text/plain": [
       "<IPython.core.display.Javascript object>"
      ]
     },
     "metadata": {},
     "output_type": "display_data"
    }
   ],
   "source": [
    "%%javascript\n",
    "<!-- Save the notebook -->\n",
    "IPython.notebook.save_checkpoint();"
   ]
  },
  {
   "cell_type": "code",
   "execution_count": null,
   "metadata": {},
   "outputs": [],
   "source": [
    "%%javascript\n",
    "IPython.notebook.session.delete();\n",
    "window.onbeforeunload = null\n",
    "setTimeout(function() { window.close(); }, 1000);"
   ]
  }
 ],
 "metadata": {
  "colab": {
   "name": "Exercise 8 - Question.ipynb",
   "provenance": []
  },
  "coursera": {
   "course_slug": "convolutional-neural-networks-tensorflow",
   "graded_item_id": "8mIh8",
   "launcher_item_id": "gg95t"
  },
  "kernelspec": {
   "display_name": "Python 3",
   "language": "python",
   "name": "python3"
  },
  "language_info": {
   "codemirror_mode": {
    "name": "ipython",
    "version": 3
   },
   "file_extension": ".py",
   "mimetype": "text/x-python",
   "name": "python",
   "nbconvert_exporter": "python",
   "pygments_lexer": "ipython3",
   "version": "3.6.8"
  }
 },
 "nbformat": 4,
 "nbformat_minor": 1
}
