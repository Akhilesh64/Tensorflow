{
  "nbformat": 4,
  "nbformat_minor": 0,
  "metadata": {
    "accelerator": "GPU",
    "colab": {
      "name": "NLP_Week4_Exercise_Shakespeare_Question.ipynb",
      "provenance": [],
      "toc_visible": true
    },
    "kernelspec": {
      "display_name": "Python 3",
      "name": "python3"
    }
  },
  "cells": [
    {
      "cell_type": "code",
      "metadata": {
        "id": "zX4Kg8DUTKWO",
        "colab_type": "code",
        "colab": {}
      },
      "source": [
        "#@title Licensed under the Apache License, Version 2.0 (the \"License\");\n",
        "# you may not use this file except in compliance with the License.\n",
        "# You may obtain a copy of the License at\n",
        "#\n",
        "# https://www.apache.org/licenses/LICENSE-2.0\n",
        "#\n",
        "# Unless required by applicable law or agreed to in writing, software\n",
        "# distributed under the License is distributed on an \"AS IS\" BASIS,\n",
        "# WITHOUT WARRANTIES OR CONDITIONS OF ANY KIND, either express or implied.\n",
        "# See the License for the specific language governing permissions and\n",
        "# limitations under the License."
      ],
      "execution_count": 3,
      "outputs": []
    },
    {
      "cell_type": "code",
      "metadata": {
        "colab_type": "code",
        "id": "BOwsuGQQY9OL",
        "colab": {}
      },
      "source": [
        "from tensorflow.keras.preprocessing.sequence import pad_sequences\n",
        "from tensorflow.keras.layers import Embedding, LSTM, Dense, Dropout, Bidirectional\n",
        "from tensorflow.keras.preprocessing.text import Tokenizer\n",
        "from tensorflow.keras.models import Sequential\n",
        "from tensorflow.keras.optimizers import Adam\n",
        "from tensorflow.keras import regularizers\n",
        "# Figure out how to import regularizers\n",
        "###\n",
        "import tensorflow.keras.utils as ku \n",
        "import numpy as np "
      ],
      "execution_count": 4,
      "outputs": []
    },
    {
      "cell_type": "code",
      "metadata": {
        "colab_type": "code",
        "id": "PRnDnCW-Z7qv",
        "colab": {
          "base_uri": "https://localhost:8080/",
          "height": 202
        },
        "outputId": "f9fbb43b-244e-4f5c-e97d-9c5307d068c0"
      },
      "source": [
        "tokenizer = Tokenizer()\n",
        "!wget --no-check-certificate \\\n",
        "    https://storage.googleapis.com/laurencemoroney-blog.appspot.com/sonnets.txt \\\n",
        "    -O /tmp/sonnets.txt\n",
        "data = open('/tmp/sonnets.txt').read()\n",
        "\n",
        "corpus = data.lower().split(\"\\n\")\n",
        "\n",
        "\n",
        "tokenizer.fit_on_texts(corpus)\n",
        "total_words = len(tokenizer.word_index) + 1\n",
        "\n",
        "# create input sequences using list of tokens\n",
        "input_sequences = []\n",
        "for line in corpus:\n",
        "\ttoken_list = tokenizer.texts_to_sequences([line])[0]\n",
        "\tfor i in range(1, len(token_list)):\n",
        "\t\tn_gram_sequence = token_list[:i+1]\n",
        "\t\tinput_sequences.append(n_gram_sequence)\n",
        "\n",
        "\n",
        "# pad sequences \n",
        "max_sequence_len = max([len(x) for x in input_sequences])\n",
        "input_sequences = np.array(pad_sequences(input_sequences, maxlen=max_sequence_len, padding='pre'))\n",
        "\n",
        "# create predictors and label\n",
        "predictors, label = input_sequences[:,:-1],input_sequences[:,-1]\n",
        "\n",
        "label = ku.to_categorical(label, num_classes=total_words)"
      ],
      "execution_count": 5,
      "outputs": [
        {
          "output_type": "stream",
          "text": [
            "--2020-07-19 09:56:26--  https://storage.googleapis.com/laurencemoroney-blog.appspot.com/sonnets.txt\n",
            "Resolving storage.googleapis.com (storage.googleapis.com)... 74.125.203.128, 74.125.204.128, 64.233.188.128, ...\n",
            "Connecting to storage.googleapis.com (storage.googleapis.com)|74.125.203.128|:443... connected.\n",
            "HTTP request sent, awaiting response... 200 OK\n",
            "Length: 93578 (91K) [text/plain]\n",
            "Saving to: ‘/tmp/sonnets.txt’\n",
            "\n",
            "\r/tmp/sonnets.txt      0%[                    ]       0  --.-KB/s               \r/tmp/sonnets.txt    100%[===================>]  91.38K  --.-KB/s    in 0.001s  \n",
            "\n",
            "2020-07-19 09:56:27 (71.3 MB/s) - ‘/tmp/sonnets.txt’ saved [93578/93578]\n",
            "\n"
          ],
          "name": "stdout"
        }
      ]
    },
    {
      "cell_type": "code",
      "metadata": {
        "colab_type": "code",
        "id": "w9vH8Y59ajYL",
        "colab": {
          "base_uri": "https://localhost:8080/",
          "height": 370
        },
        "outputId": "4a0c830a-8114-4a3d-aa44-e134f71960b2"
      },
      "source": [
        "model = Sequential()\n",
        "model.add(Embedding(total_words, 100, input_length=max_sequence_len - 1))\n",
        "model.add(Bidirectional(LSTM(150, return_sequences= True)))\n",
        "model.add(Dropout(0.2))\n",
        "model.add(Bidirectional(LSTM(100)))\n",
        "model.add(Dense(total_words/2, activation='relu', kernel_regularizer=regularizers.l2(0.01)))\n",
        "model.add(Dense(total_words, activation = 'softmax'))\n",
        "opt=Adam(learning_rate=0.001)\n",
        "model.compile(optimizer=opt, loss='categorical_crossentropy', metrics=['accuracy'])\n",
        "print(model.summary())\n"
      ],
      "execution_count": 6,
      "outputs": [
        {
          "output_type": "stream",
          "text": [
            "Model: \"sequential\"\n",
            "_________________________________________________________________\n",
            "Layer (type)                 Output Shape              Param #   \n",
            "=================================================================\n",
            "embedding (Embedding)        (None, 10, 100)           321100    \n",
            "_________________________________________________________________\n",
            "bidirectional (Bidirectional (None, 10, 300)           301200    \n",
            "_________________________________________________________________\n",
            "dropout (Dropout)            (None, 10, 300)           0         \n",
            "_________________________________________________________________\n",
            "bidirectional_1 (Bidirection (None, 200)               320800    \n",
            "_________________________________________________________________\n",
            "dense (Dense)                (None, 1605)              322605    \n",
            "_________________________________________________________________\n",
            "dense_1 (Dense)              (None, 3211)              5156866   \n",
            "=================================================================\n",
            "Total params: 6,422,571\n",
            "Trainable params: 6,422,571\n",
            "Non-trainable params: 0\n",
            "_________________________________________________________________\n",
            "None\n"
          ],
          "name": "stdout"
        }
      ]
    },
    {
      "cell_type": "code",
      "metadata": {
        "colab_type": "code",
        "id": "AIg2f1HBxqof",
        "colab": {
          "base_uri": "https://localhost:8080/",
          "height": 1000
        },
        "outputId": "cb723e2e-2bcb-4fce-be82-c8165e486ed5"
      },
      "source": [
        " history = model.fit(predictors, label, epochs=100, verbose=1)"
      ],
      "execution_count": 7,
      "outputs": [
        {
          "output_type": "stream",
          "text": [
            "Epoch 1/100\n",
            "484/484 [==============================] - 14s 30ms/step - loss: 6.9632 - accuracy: 0.0217\n",
            "Epoch 2/100\n",
            "484/484 [==============================] - 14s 30ms/step - loss: 6.5069 - accuracy: 0.0236\n",
            "Epoch 3/100\n",
            "484/484 [==============================] - 14s 30ms/step - loss: 6.4056 - accuracy: 0.0244\n",
            "Epoch 4/100\n",
            "484/484 [==============================] - 15s 30ms/step - loss: 6.2789 - accuracy: 0.0314\n",
            "Epoch 5/100\n",
            "484/484 [==============================] - 14s 30ms/step - loss: 6.1795 - accuracy: 0.0366\n",
            "Epoch 6/100\n",
            "484/484 [==============================] - 15s 30ms/step - loss: 6.0882 - accuracy: 0.0396\n",
            "Epoch 7/100\n",
            "484/484 [==============================] - 15s 30ms/step - loss: 6.0015 - accuracy: 0.0440\n",
            "Epoch 8/100\n",
            "484/484 [==============================] - 15s 30ms/step - loss: 5.9037 - accuracy: 0.0469\n",
            "Epoch 9/100\n",
            "484/484 [==============================] - 15s 30ms/step - loss: 5.7975 - accuracy: 0.0534\n",
            "Epoch 10/100\n",
            "484/484 [==============================] - 14s 30ms/step - loss: 5.6790 - accuracy: 0.0578\n",
            "Epoch 11/100\n",
            "484/484 [==============================] - 14s 30ms/step - loss: 5.5638 - accuracy: 0.0645\n",
            "Epoch 12/100\n",
            "484/484 [==============================] - 15s 30ms/step - loss: 5.4506 - accuracy: 0.0697\n",
            "Epoch 13/100\n",
            "484/484 [==============================] - 15s 30ms/step - loss: 5.3346 - accuracy: 0.0785\n",
            "Epoch 14/100\n",
            "484/484 [==============================] - 15s 30ms/step - loss: 5.2183 - accuracy: 0.0852\n",
            "Epoch 15/100\n",
            "484/484 [==============================] - 15s 30ms/step - loss: 5.0994 - accuracy: 0.0944\n",
            "Epoch 16/100\n",
            "484/484 [==============================] - 15s 31ms/step - loss: 4.9801 - accuracy: 0.0984\n",
            "Epoch 17/100\n",
            "484/484 [==============================] - 15s 30ms/step - loss: 4.8576 - accuracy: 0.1098\n",
            "Epoch 18/100\n",
            "484/484 [==============================] - 14s 30ms/step - loss: 4.7430 - accuracy: 0.1227\n",
            "Epoch 19/100\n",
            "484/484 [==============================] - 14s 30ms/step - loss: 4.6244 - accuracy: 0.1291\n",
            "Epoch 20/100\n",
            "484/484 [==============================] - 14s 30ms/step - loss: 4.5004 - accuracy: 0.1414\n",
            "Epoch 21/100\n",
            "484/484 [==============================] - 14s 30ms/step - loss: 4.3851 - accuracy: 0.1526\n",
            "Epoch 22/100\n",
            "484/484 [==============================] - 14s 30ms/step - loss: 4.2701 - accuracy: 0.1665\n",
            "Epoch 23/100\n",
            "484/484 [==============================] - 14s 30ms/step - loss: 4.1555 - accuracy: 0.1835\n",
            "Epoch 24/100\n",
            "484/484 [==============================] - 14s 30ms/step - loss: 4.0397 - accuracy: 0.1958\n",
            "Epoch 25/100\n",
            "484/484 [==============================] - 14s 30ms/step - loss: 3.9348 - accuracy: 0.2128\n",
            "Epoch 26/100\n",
            "484/484 [==============================] - 15s 30ms/step - loss: 3.8194 - accuracy: 0.2310\n",
            "Epoch 27/100\n",
            "484/484 [==============================] - 14s 30ms/step - loss: 3.7145 - accuracy: 0.2575\n",
            "Epoch 28/100\n",
            "484/484 [==============================] - 14s 30ms/step - loss: 3.6050 - accuracy: 0.2790\n",
            "Epoch 29/100\n",
            "484/484 [==============================] - 14s 30ms/step - loss: 3.5037 - accuracy: 0.2958\n",
            "Epoch 30/100\n",
            "484/484 [==============================] - 14s 30ms/step - loss: 3.4050 - accuracy: 0.3180\n",
            "Epoch 31/100\n",
            "484/484 [==============================] - 15s 30ms/step - loss: 3.3140 - accuracy: 0.3388\n",
            "Epoch 32/100\n",
            "484/484 [==============================] - 14s 30ms/step - loss: 3.2180 - accuracy: 0.3647\n",
            "Epoch 33/100\n",
            "484/484 [==============================] - 14s 30ms/step - loss: 3.1198 - accuracy: 0.3824\n",
            "Epoch 34/100\n",
            "484/484 [==============================] - 14s 30ms/step - loss: 3.0242 - accuracy: 0.4069\n",
            "Epoch 35/100\n",
            "484/484 [==============================] - 14s 30ms/step - loss: 2.9535 - accuracy: 0.4245\n",
            "Epoch 36/100\n",
            "484/484 [==============================] - 15s 30ms/step - loss: 2.8768 - accuracy: 0.4432\n",
            "Epoch 37/100\n",
            "484/484 [==============================] - 15s 30ms/step - loss: 2.7904 - accuracy: 0.4586\n",
            "Epoch 38/100\n",
            "484/484 [==============================] - 15s 31ms/step - loss: 2.7269 - accuracy: 0.4735\n",
            "Epoch 39/100\n",
            "484/484 [==============================] - 14s 30ms/step - loss: 2.6492 - accuracy: 0.4899\n",
            "Epoch 40/100\n",
            "484/484 [==============================] - 14s 30ms/step - loss: 2.5804 - accuracy: 0.5089\n",
            "Epoch 41/100\n",
            "484/484 [==============================] - 14s 30ms/step - loss: 2.5075 - accuracy: 0.5230\n",
            "Epoch 42/100\n",
            "484/484 [==============================] - 14s 30ms/step - loss: 2.4445 - accuracy: 0.5416\n",
            "Epoch 43/100\n",
            "484/484 [==============================] - 14s 30ms/step - loss: 2.3784 - accuracy: 0.5558\n",
            "Epoch 44/100\n",
            "484/484 [==============================] - 14s 30ms/step - loss: 2.3138 - accuracy: 0.5681\n",
            "Epoch 45/100\n",
            "484/484 [==============================] - 14s 30ms/step - loss: 2.2658 - accuracy: 0.5828\n",
            "Epoch 46/100\n",
            "484/484 [==============================] - 14s 30ms/step - loss: 2.2232 - accuracy: 0.5887\n",
            "Epoch 47/100\n",
            "484/484 [==============================] - 14s 30ms/step - loss: 2.1557 - accuracy: 0.6091\n",
            "Epoch 48/100\n",
            "484/484 [==============================] - 15s 30ms/step - loss: 2.0989 - accuracy: 0.6195\n",
            "Epoch 49/100\n",
            "484/484 [==============================] - 15s 30ms/step - loss: 2.0804 - accuracy: 0.6209\n",
            "Epoch 50/100\n",
            "484/484 [==============================] - 15s 30ms/step - loss: 2.0295 - accuracy: 0.6357\n",
            "Epoch 51/100\n",
            "484/484 [==============================] - 15s 30ms/step - loss: 1.9789 - accuracy: 0.6445\n",
            "Epoch 52/100\n",
            "484/484 [==============================] - 15s 30ms/step - loss: 1.9181 - accuracy: 0.6625\n",
            "Epoch 53/100\n",
            "484/484 [==============================] - 14s 30ms/step - loss: 1.8780 - accuracy: 0.6714\n",
            "Epoch 54/100\n",
            "484/484 [==============================] - 14s 30ms/step - loss: 1.8462 - accuracy: 0.6727\n",
            "Epoch 55/100\n",
            "484/484 [==============================] - 14s 30ms/step - loss: 1.8136 - accuracy: 0.6846\n",
            "Epoch 56/100\n",
            "484/484 [==============================] - 15s 30ms/step - loss: 1.7724 - accuracy: 0.6900\n",
            "Epoch 57/100\n",
            "484/484 [==============================] - 14s 30ms/step - loss: 1.7513 - accuracy: 0.6968\n",
            "Epoch 58/100\n",
            "484/484 [==============================] - 15s 30ms/step - loss: 1.7177 - accuracy: 0.7052\n",
            "Epoch 59/100\n",
            "484/484 [==============================] - 15s 31ms/step - loss: 1.6922 - accuracy: 0.7065\n",
            "Epoch 60/100\n",
            "484/484 [==============================] - 14s 30ms/step - loss: 1.6497 - accuracy: 0.7141\n",
            "Epoch 61/100\n",
            "484/484 [==============================] - 14s 30ms/step - loss: 1.6129 - accuracy: 0.7204\n",
            "Epoch 62/100\n",
            "484/484 [==============================] - 14s 30ms/step - loss: 1.5817 - accuracy: 0.7289\n",
            "Epoch 63/100\n",
            "484/484 [==============================] - 15s 30ms/step - loss: 1.5639 - accuracy: 0.7307\n",
            "Epoch 64/100\n",
            "484/484 [==============================] - 14s 30ms/step - loss: 1.5440 - accuracy: 0.7350\n",
            "Epoch 65/100\n",
            "484/484 [==============================] - 14s 30ms/step - loss: 1.5205 - accuracy: 0.7414\n",
            "Epoch 66/100\n",
            "484/484 [==============================] - 15s 30ms/step - loss: 1.4969 - accuracy: 0.7447\n",
            "Epoch 67/100\n",
            "484/484 [==============================] - 14s 30ms/step - loss: 1.4590 - accuracy: 0.7541\n",
            "Epoch 68/100\n",
            "484/484 [==============================] - 14s 30ms/step - loss: 1.4440 - accuracy: 0.7524\n",
            "Epoch 69/100\n",
            "484/484 [==============================] - 14s 30ms/step - loss: 1.4092 - accuracy: 0.7636\n",
            "Epoch 70/100\n",
            "484/484 [==============================] - 14s 30ms/step - loss: 1.3971 - accuracy: 0.7645\n",
            "Epoch 71/100\n",
            "484/484 [==============================] - 15s 30ms/step - loss: 1.3773 - accuracy: 0.7634\n",
            "Epoch 72/100\n",
            "484/484 [==============================] - 15s 30ms/step - loss: 1.3642 - accuracy: 0.7692\n",
            "Epoch 73/100\n",
            "484/484 [==============================] - 15s 31ms/step - loss: 1.3477 - accuracy: 0.7706\n",
            "Epoch 74/100\n",
            "484/484 [==============================] - 15s 30ms/step - loss: 1.3334 - accuracy: 0.7729\n",
            "Epoch 75/100\n",
            "484/484 [==============================] - 15s 30ms/step - loss: 1.3187 - accuracy: 0.7745\n",
            "Epoch 76/100\n",
            "484/484 [==============================] - 15s 30ms/step - loss: 1.2957 - accuracy: 0.7794\n",
            "Epoch 77/100\n",
            "484/484 [==============================] - 15s 30ms/step - loss: 1.2746 - accuracy: 0.7862\n",
            "Epoch 78/100\n",
            "484/484 [==============================] - 15s 30ms/step - loss: 1.2693 - accuracy: 0.7874\n",
            "Epoch 79/100\n",
            "484/484 [==============================] - 15s 31ms/step - loss: 1.2484 - accuracy: 0.7892\n",
            "Epoch 80/100\n",
            "484/484 [==============================] - 15s 31ms/step - loss: 1.2327 - accuracy: 0.7916\n",
            "Epoch 81/100\n",
            "484/484 [==============================] - 15s 31ms/step - loss: 1.2227 - accuracy: 0.7929\n",
            "Epoch 82/100\n",
            "484/484 [==============================] - 15s 30ms/step - loss: 1.2183 - accuracy: 0.7928\n",
            "Epoch 83/100\n",
            "484/484 [==============================] - 15s 30ms/step - loss: 1.2053 - accuracy: 0.7946\n",
            "Epoch 84/100\n",
            "484/484 [==============================] - 15s 30ms/step - loss: 1.1698 - accuracy: 0.8033\n",
            "Epoch 85/100\n",
            "484/484 [==============================] - 15s 30ms/step - loss: 1.1620 - accuracy: 0.8044\n",
            "Epoch 86/100\n",
            "484/484 [==============================] - 15s 30ms/step - loss: 1.1644 - accuracy: 0.7996\n",
            "Epoch 87/100\n",
            "484/484 [==============================] - 15s 30ms/step - loss: 1.1682 - accuracy: 0.7992\n",
            "Epoch 88/100\n",
            "484/484 [==============================] - 15s 30ms/step - loss: 1.1366 - accuracy: 0.8046\n",
            "Epoch 89/100\n",
            "484/484 [==============================] - 15s 30ms/step - loss: 1.1135 - accuracy: 0.8106\n",
            "Epoch 90/100\n",
            "484/484 [==============================] - 15s 30ms/step - loss: 1.1209 - accuracy: 0.8085\n",
            "Epoch 91/100\n",
            "484/484 [==============================] - 15s 30ms/step - loss: 1.1242 - accuracy: 0.8053\n",
            "Epoch 92/100\n",
            "484/484 [==============================] - 15s 30ms/step - loss: 1.1077 - accuracy: 0.8097\n",
            "Epoch 93/100\n",
            "484/484 [==============================] - 15s 30ms/step - loss: 1.1029 - accuracy: 0.8083\n",
            "Epoch 94/100\n",
            "484/484 [==============================] - 15s 30ms/step - loss: 1.0808 - accuracy: 0.8132\n",
            "Epoch 95/100\n",
            "484/484 [==============================] - 15s 30ms/step - loss: 1.0796 - accuracy: 0.8150\n",
            "Epoch 96/100\n",
            "484/484 [==============================] - 15s 30ms/step - loss: 1.0715 - accuracy: 0.8150\n",
            "Epoch 97/100\n",
            "484/484 [==============================] - 15s 30ms/step - loss: 1.0561 - accuracy: 0.8177\n",
            "Epoch 98/100\n",
            "484/484 [==============================] - 15s 30ms/step - loss: 1.0542 - accuracy: 0.8181\n",
            "Epoch 99/100\n",
            "484/484 [==============================] - 15s 30ms/step - loss: 1.0536 - accuracy: 0.8157\n",
            "Epoch 100/100\n",
            "484/484 [==============================] - 15s 30ms/step - loss: 1.0429 - accuracy: 0.8172\n"
          ],
          "name": "stdout"
        }
      ]
    },
    {
      "cell_type": "code",
      "metadata": {
        "colab_type": "code",
        "id": "1fXTEO3GJ282",
        "colab": {
          "base_uri": "https://localhost:8080/",
          "height": 545
        },
        "outputId": "4ef50809-713f-4bd2-ca89-4518d0298823"
      },
      "source": [
        "import matplotlib.pyplot as plt\n",
        "acc = history.history['accuracy']\n",
        "loss = history.history['loss']\n",
        "\n",
        "epochs = range(len(acc))\n",
        "\n",
        "plt.plot(epochs, acc, 'b', label='Training accuracy')\n",
        "plt.title('Training accuracy')\n",
        "\n",
        "plt.figure()\n",
        "\n",
        "plt.plot(epochs, loss, 'b', label='Training Loss')\n",
        "plt.title('Training loss')\n",
        "plt.legend()\n",
        "\n",
        "plt.show()"
      ],
      "execution_count": 8,
      "outputs": [
        {
          "output_type": "display_data",
          "data": {
            "image/png": "[encoded data removed]",
            "text/plain": [
              "<Figure size 432x288 with 1 Axes>"
            ]
          },
          "metadata": {
            "tags": [],
            "needs_background": "light"
          }
        },
        {
          "output_type": "display_data",
          "data": {
            "image/png": "[encoded data removed]",
            "text/plain": [
              "<Figure size 432x288 with 1 Axes>"
            ]
          },
          "metadata": {
            "tags": [],
            "needs_background": "light"
          }
        }
      ]
    },
    {
      "cell_type": "code",
      "metadata": {
        "colab_type": "code",
        "id": "6Vc6PHgxa6Hm",
        "colab": {
          "base_uri": "https://localhost:8080/",
          "height": 104
        },
        "outputId": "5c53268e-c657-47ba-8707-3d54335f1eb4"
      },
      "source": [
        "seed_text = \"Help me Obi Wan Kenobi, you're my only hope\"\n",
        "next_words = 100\n",
        "  \n",
        "for _ in range(next_words):\n",
        "\ttoken_list = tokenizer.texts_to_sequences([seed_text])[0]\n",
        "\ttoken_list = pad_sequences([token_list], maxlen=max_sequence_len-1, padding='pre')\n",
        "\tpredicted = model.predict_classes(token_list, verbose=0)\n",
        "\toutput_word = \"\"\n",
        "\tfor word, index in tokenizer.word_index.items():\n",
        "\t\tif index == predicted:\n",
        "\t\t\toutput_word = word\n",
        "\t\t\tbreak\n",
        "\tseed_text += \" \" + output_word\n",
        "print(seed_text)"
      ],
      "execution_count": 9,
      "outputs": [
        {
          "output_type": "stream",
          "text": [
            "WARNING:tensorflow:From <ipython-input-9-622d307fa19a>:7: Sequential.predict_classes (from tensorflow.python.keras.engine.sequential) is deprecated and will be removed after 2021-01-01.\n",
            "Instructions for updating:\n",
            "Please use instead:* `np.argmax(model.predict(x), axis=-1)`,   if your model does multi-class classification   (e.g. if it uses a `softmax` last-layer activation).* `(model.predict(x) > 0.5).astype(\"int32\")`,   if your model does binary classification   (e.g. if it uses a `sigmoid` last-layer activation).\n",
            "Help me Obi Wan Kenobi, you're my only hope will ill ill of thee bright die tell her old eyes book old burn'd eyes face give men spent best near prove thee bright be lie doth bright be lie on their rhyme ' with one bright night night lack lack lie of young near lie doth me which the world's rhyme might belong end their minds men place many a dearer pride near show bright thee find him date lack lack tomb me eyes in art now see thine eyes eyes am true old old old praise more more more old part of part and make the self 'will'\n"
          ],
          "name": "stdout"
        }
      ]
    }
  ]
}